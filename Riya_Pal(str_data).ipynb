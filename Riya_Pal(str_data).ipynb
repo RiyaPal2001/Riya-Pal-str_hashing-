{
  "nbformat": 4,
  "nbformat_minor": 0,
  "metadata": {
    "colab": {
      "name": "Riya_Pal(str_data)",
      "provenance": [],
      "collapsed_sections": []
    },
    "kernelspec": {
      "name": "python3",
      "display_name": "Python 3"
    },
    "language_info": {
      "name": "python"
    }
  },
  "cells": [
    {
      "cell_type": "code",
      "metadata": {
        "colab": {
          "base_uri": "https://localhost:8080/"
        },
        "id": "scxIAm6ZJAKE",
        "outputId": "604f6e25-efb2-43e6-d70e-15dfd44e351f"
      },
      "source": [
        "import hashlib\n",
        "str_hash = input (\"enter a string: \")\n",
        "result = hashlib.md5(str_hash.encode())\n",
        "print(\"the MD5 values are:\")\n",
        "print(result.digest())      #In bytes format\n",
        "print(result.hexdigest())   #In hexadecimal format"
      ],
      "execution_count": 6,
      "outputs": [
        {
          "output_type": "stream",
          "text": [
            "enter a string: Riya Pal\n",
            "the MD5 values are:\n",
            "b'R\\x8b\\x90,b\\xd4>,\\xb2\\xa2\\x93\\x85\\xe5\\x90\\xa9\\xdf'\n",
            "528b902c62d43e2cb2a29385e590a9df\n"
          ],
          "name": "stdout"
        }
      ]
    },
    {
      "cell_type": "code",
      "metadata": {
        "colab": {
          "base_uri": "https://localhost:8080/"
        },
        "id": "9332-g6JQfHI",
        "outputId": "63d54977-4340-4c05-d6a2-2f44e0a173bc"
      },
      "source": [
        "import hashlib\n",
        "str_hash = input(\"enter a string: \")\n",
        "SHA_256 = hashlib.sha256(str_hash.encode())    # hash with SHA-2(256-bit)\n",
        "print(SHA_256.hexdigest())\n",
        "SHA_3_256 = hashlib.sha3_256(str_hash.encode())  #hash with SHA-3(256-bit)\n",
        "print(SHA_3_256.hexdigest())\n",
        "BLAKE2c = hashlib.blake2s(str_hash.encode())   #hash with BLAKE2(256-bit)\n",
        "print(BLAKE2c.hexdigest())"
      ],
      "execution_count": 5,
      "outputs": [
        {
          "output_type": "stream",
          "text": [
            "enter a string: Riya Pal\n",
            "8443952d3dc39e5422010c8f3f5eae44d3d7744e63e1b8bec1708189a4cbb9f5\n",
            "685fb8adfb8d44b43340c8eeafd5002be2226537ff0c06530acfab19065362cf\n",
            "102180fe47824d72aa54842fa085ef70a66131bf606c7788cb00b5b9b81e358e\n"
          ],
          "name": "stdout"
        }
      ]
    },
    {
      "cell_type": "code",
      "metadata": {
        "colab": {
          "base_uri": "https://localhost:8080/"
        },
        "id": "f-I4tLJFwaRR",
        "outputId": "8ec56056-6d43-492e-fdef-bb75b47048b2"
      },
      "source": [
        "import hashlib\n",
        "import uuid\n",
        "salt = uuid.uuid4().hex\n",
        "str_hash= input(\"enter a string: \")\n",
        "salted_str = hashlib.sha512((str_hash + salt).encode())\n",
        "print(\"after salting:\")\n",
        "print(salted_str.hexdigest())"
      ],
      "execution_count": 8,
      "outputs": [
        {
          "output_type": "stream",
          "text": [
            "enter a string: Riya Pal\n",
            "after salting:\n",
            "fe54a4e8301475b4576f5b097939449b1413a4ecf56c6d9611db5a37f624607d16c1af617e74789cc723b420db884c120be7608b66222fee2d36fc33fbc61ba6\n"
          ],
          "name": "stdout"
        }
      ]
    }
  ]
}